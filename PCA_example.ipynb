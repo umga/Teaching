{
 "cells": [
  {
   "cell_type": "code",
   "execution_count": 2,
   "id": "96aae675-bd1e-4746-ba2c-83bc567d7f4a",
   "metadata": {},
   "outputs": [],
   "source": [
    "# Step 1: Import the necessary libraries\n",
    "import numpy as np\n",
    "from sklearn.decomposition import PCA\n",
    "import pandas as pd"
   ]
  },
  {
   "cell_type": "code",
   "execution_count": 3,
   "id": "dc646882-cdcd-4d8f-94ef-384945f0121a",
   "metadata": {},
   "outputs": [],
   "source": [
    "# Step 2: Create a dataset with student performance data\n",
    "# This dictionary contains students' Grades, SAT scores, Extracurriculars, Recommendation, and Interview scores\n",
    "data = {\n",
    "    'Grades': [85, 90, 80],\n",
    "    'Entry exam': [80, 85, 75],\n",
    "    'Extracurriculars': [8, 7, 9],\n",
    "    'Recommendation': [9, 8, 10],\n",
    "    'Interview': [7, 8, 6]\n",
    "}"
   ]
  },
  {
   "cell_type": "code",
   "execution_count": 4,
   "id": "cee72261-e491-43c5-a8ff-033290bbe673",
   "metadata": {},
   "outputs": [],
   "source": [
    "# Step 3: Convert the data into a Pandas DataFrame for easy manipulation\n",
    "df = pd.DataFrame(data, index=['Student 1', 'Student 2', 'Student 3'])\n",
    "df"
   ]
  },
  {
   "cell_type": "code",
   "execution_count": 5,
   "id": "9816cb63-1cbe-452f-87c6-ccccca39c998",
   "metadata": {},
   "outputs": [],
   "source": [
    "# Step 4: Normalize the data (mean = 0, standard deviation = 1) to prepare for PCA\n",
    "# This step ensures that all variables are on the same scale\n",
    "df_normalized = (df - df.mean()) / df.std()\n",
    "df_normalized"
   ]
  },
  {
   "cell_type": "code",
   "execution_count": 6,
   "id": "f8c9a5d3-58fa-44dc-b7f1-f57844987712",
   "metadata": {},
   "outputs": [],
   "source": [
    "# Step 5: Apply PCA to the normalized data\n",
    "# PCA will transform the data into components that represent the most variance\n",
    "pca = PCA()\n",
    "pca.fit(df_normalized)\n",
    "pca_results = pca.transform(df_normalized)\n",
    "pca_results"
   ]
  },
  {
   "cell_type": "code",
   "execution_count": 7,
   "id": "c57b330b-8b26-417d-b609-28f6d4474b1c",
   "metadata": {},
   "outputs": [],
   "source": [
    "# Step 6: Create a DataFrame for the PCA results\n",
    "# The transformed data will be stored in a new DataFrame with columns representing the principal components\n",
    "# This step shows how each student is represented in the space of the first three principal components\n",
    "pca_df = pd.DataFrame(pca_results, index=['Student 1', 'Student 2', 'Student 3'], columns=['PC1', 'PC2', 'PC3'])\n",
    "\n",
    "pca_df"
   ]
  },
  {
   "cell_type": "code",
   "execution_count": null,
   "id": "47461300-e8a0-45f6-ab46-6ba8d777d2a1",
   "metadata": {},
   "outputs": [],
   "source": []
  }
 ],
 "metadata": {
  "kernelspec": {
   "display_name": "Python 3 (ipykernel)",
   "language": "python",
   "name": "python3"
  },
  "language_info": {
   "codemirror_mode": {
    "name": "ipython",
    "version": 3
   },
   "file_extension": ".py",
   "mimetype": "text/x-python",
   "name": "python",
   "nbconvert_exporter": "python",
   "pygments_lexer": "ipython3",
   "version": "3.9.18"
  }
 },
 "nbformat": 4,
 "nbformat_minor": 5
}
